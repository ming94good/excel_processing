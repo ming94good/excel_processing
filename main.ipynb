{
 "cells": [
  {
   "cell_type": "code",
   "execution_count": 1,
   "metadata": {},
   "outputs": [],
   "source": [
    "import requests\n",
    "import pandas as pd\n",
    "import json\n",
    "import sqlite3\n",
    "import xlwt \n",
    "from xlwt import Workbook "
   ]
  },
  {
   "cell_type": "code",
   "execution_count": 7,
   "metadata": {},
   "outputs": [],
   "source": [
    "def create_table(): \n",
    "    conn = sqlite3.connect('video.db') \n",
    "    c = conn.cursor() \n",
    "    c.execute('CREATE TABLE IF NOT EXISTS video (id INT, name TEXT, category TEXT)') \n",
    "    c.close() \n",
    "    conn.close() \n",
    "def data_entry(id,name,category): \n",
    "    conn = sqlite3.connect('video.db') \n",
    "    c = conn.cursor() \n",
    "    c.execute(\"INSERT INTO video (id, name, category) VALUES(?, ?, ?)\", (id, name,category)) \n",
    "    c.close() \n",
    "    conn.commit() \n",
    "    conn.close() \n",
    "def select_all_video():\n",
    "    conn = sqlite3.connect('video.db') \n",
    "    cur = conn.cursor()\n",
    "    cur.execute(\"SELECT * FROM video\")\n",
    "    rows = cur.fetchall()\n",
    "    cur.close()\n",
    "    conn.close()\n",
    "    for row in rows:\n",
    "        print(row)\n",
    "def search_video(id):\n",
    "    conn = sqlite3.connect('video.db') \n",
    "    cur = conn.cursor()\n",
    "    cur.execute(\"SELECT * FROM video WHERE id = \"+ str(id))\n",
    "    rows = cur.fetchall()\n",
    "    cur.close()\n",
    "    conn.close()\n",
    "    return rows"
   ]
  },
  {
   "cell_type": "code",
   "execution_count": 3,
   "metadata": {},
   "outputs": [],
   "source": [
    "col_list = [\"id\", \"name_tc\", \"category\"]\n",
    "df = pd.read_csv(\"video.csv\", usecols=col_list)\n",
    "data = {}\n",
    "data['vtv'] = []\n",
    "create_table() \n",
    "for index, row in df.iterrows():\n",
    "    data_entry(row['id'],row['name_tc'],row['category']) "
   ]
  },
  {
   "cell_type": "code",
   "execution_count": 27,
   "metadata": {},
   "outputs": [],
   "source": [
    "wb = Workbook()\n",
    "sheet = wb.add_sheet('video_recommend') \n",
    "sheet.write(0,0,'video_id')\n",
    "sheet.write(0,1,'name')\n",
    "sheet.write(0,2,'category')\n",
    "for i in range(3,53):\n",
    "    sheet.write(0,i,'recommend'+ str(i-2))\n",
    "for index, row in df.iterrows():\n",
    "    #print(row['id'])\n",
    "    # do recommend\n",
    "    recommend_num = 50\n",
    "    result = requests.get('http://localhost:5000/video_id_to_video?video_id=' \\\n",
    "                          + str(row['id']) +'&nums=' + str(recommend_num))\n",
    "    r = json.loads(result.text)\n",
    "    sheet.write(index+1,0,row['id'])\n",
    "    sheet.write(index+1,1,row['name_tc'])\n",
    "    sheet.write(index+1,2,row['category'])\n",
    "    for i in range(3,53):\n",
    "        r_id = r['videos_id'][i-3]\n",
    "        sheet.write(index+1, i, str(search_video(r_id)))\n",
    "wb.save('result.xls') "
   ]
  },
  {
   "cell_type": "code",
   "execution_count": null,
   "metadata": {},
   "outputs": [],
   "source": []
  }
 ],
 "metadata": {
  "kernelspec": {
   "display_name": "Python 3",
   "language": "python",
   "name": "python3"
  },
  "language_info": {
   "codemirror_mode": {
    "name": "ipython",
    "version": 3
   },
   "file_extension": ".py",
   "mimetype": "text/x-python",
   "name": "python",
   "nbconvert_exporter": "python",
   "pygments_lexer": "ipython3",
   "version": "3.6.8"
  }
 },
 "nbformat": 4,
 "nbformat_minor": 2
}
