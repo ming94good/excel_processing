{
 "cells": [
  {
   "cell_type": "code",
   "execution_count": 1,
   "metadata": {},
   "outputs": [],
   "source": [
    "import requests\n",
    "import pandas as pd\n",
    "import json\n",
    "import sqlite3\n",
    "import xlwt \n",
    "from xlwt import Workbook\n",
    "import pymongo"
   ]
  },
  {
   "cell_type": "code",
   "execution_count": 2,
   "metadata": {},
   "outputs": [],
   "source": [
    "def insert(user_id, recommend):\n",
    "    if(count(user_id) > 0):\n",
    "        for r in recommend:\n",
    "            update(user_id, r)\n",
    "    else:\n",
    "        d={'user_id': user_id, 'recommend': recommend}\n",
    "        return col.insert_one(d)\n",
    "def count(user_id):\n",
    "    return col.count_documents({\"user_id\": user_id})\n",
    "def update(user_id, recommend):\n",
    "    query = { \"user_id\": user_id}\n",
    "    newvalues = { \"$push\": { \"recommend\": recommend } }\n",
    "    return col.update_one(query, newvalues)\n",
    "def search(user_id):\n",
    "    query = { \"user_id\": user_id}\n",
    "    return col.find(query)\n",
    "def recommend(user_id):\n",
    "    for x in search(user_id):\n",
    "        return x['recommend']\n",
    "def delete(user_id):\n",
    "    query = { \"user_id\": user_id}\n",
    "    return col.delete_many(query)"
   ]
  },
  {
   "cell_type": "code",
   "execution_count": 5,
   "metadata": {},
   "outputs": [
    {
     "name": "stdout",
     "output_type": "stream",
     "text": [
      "3197\n"
     ]
    }
   ],
   "source": [
    "myclient = pymongo.MongoClient(\"mongodb://localhost:27017/\")\n",
    "mydb = myclient[\"mydatabase\"]\n",
    "col = mydb[\"recommend\"]\n",
    "df = pd.read_csv(\"../test_watch_log.csv\")\n",
    "c=0\n",
    "\n",
    "wb = Workbook()\n",
    "sheet = wb.add_sheet('video_recommend') \n",
    "sheet.write(0,0,'user_id')\n",
    "sheet.write(0,1,'video_id')\n",
    "sheet.write(0,2,'videos recommemed')\n",
    "sheet.write(0,3,'video is in recommend list')\n",
    "for index, row in df.iterrows():\n",
    "    rst = False\n",
    "    try:\n",
    "        recommend_num = 50\n",
    "        result = requests.get('http://localhost:5000/video_id_to_video?video_id=' \\\n",
    "                                  + str(row['video_id']) +'&nums=' + str(recommend_num))\n",
    "        r = json.loads(result.text)\n",
    "        rmd = r['videos_id']\n",
    "        id = int(row['user_id'])\n",
    "        insert(id,rmd)\n",
    "        \n",
    "        recommend_list = recommend(id)\n",
    "        if row['video_id'] in recommend_list:\n",
    "            c+=1\n",
    "            rst = True\n",
    "        sheet.write(index+1,0,str(row['user_id']))\n",
    "        sheet.write(index+1,1,str(row['video_id']))\n",
    "        sheet.write(index+1,2,str(recommend_list))\n",
    "        sheet.write(index+1,3,str(rst))\n",
    "    except:\n",
    "        continue\n",
    "    \n",
    "wb.save('result.xls')\n",
    "print(c)"
   ]
  },
  {
   "cell_type": "code",
   "execution_count": 15,
   "metadata": {},
   "outputs": [],
   "source": [
    "cursor = col.find({})\n",
    "for document in cursor:\n",
    "    print(document)"
   ]
  },
  {
   "cell_type": "code",
   "execution_count": 4,
   "metadata": {},
   "outputs": [
    {
     "name": "stderr",
     "output_type": "stream",
     "text": [
      "<ipython-input-4-096d42e75f2b>:1: DeprecationWarning: remove is deprecated. Use delete_one or delete_many instead.\n",
      "  col.remove()\n"
     ]
    },
    {
     "data": {
      "text/plain": [
       "{'n': 3278, 'ok': 1.0}"
      ]
     },
     "execution_count": 4,
     "metadata": {},
     "output_type": "execute_result"
    }
   ],
   "source": [
    "col.remove()"
   ]
  },
  {
   "cell_type": "code",
   "execution_count": 9,
   "metadata": {},
   "outputs": [
    {
     "name": "stdout",
     "output_type": "stream",
     "text": [
      "None\n"
     ]
    }
   ],
   "source": [
    "print(recommend(415827))"
   ]
  },
  {
   "cell_type": "code",
   "execution_count": 16,
   "metadata": {},
   "outputs": [
    {
     "data": {
      "text/plain": [
       "<pymongo.results.InsertOneResult at 0x2d892f8e940>"
      ]
     },
     "execution_count": 16,
     "metadata": {},
     "output_type": "execute_result"
    }
   ],
   "source": [
    "insert(123,['123'])"
   ]
  },
  {
   "cell_type": "code",
   "execution_count": null,
   "metadata": {},
   "outputs": [],
   "source": []
  }
 ],
 "metadata": {
  "kernelspec": {
   "display_name": "Python 3",
   "language": "python",
   "name": "python3"
  },
  "language_info": {
   "codemirror_mode": {
    "name": "ipython",
    "version": 3
   },
   "file_extension": ".py",
   "mimetype": "text/x-python",
   "name": "python",
   "nbconvert_exporter": "python",
   "pygments_lexer": "ipython3",
   "version": "3.8.5"
  }
 },
 "nbformat": 4,
 "nbformat_minor": 4
}
