{
 "cells": [
  {
   "cell_type": "code",
   "execution_count": 1,
   "metadata": {},
   "outputs": [],
   "source": [
    "import requests\n",
    "import pandas as pd\n",
    "import json\n",
    "import sqlite3\n",
    "import xlwt \n",
    "from xlwt import Workbook\n",
    "import pymongo"
   ]
  },
  {
   "cell_type": "code",
   "execution_count": 2,
   "metadata": {},
   "outputs": [],
   "source": [
    "def insert(user_id, recommend):\n",
    "    if(count(user_id) > 0):\n",
    "        for r in recommend:\n",
    "            update(user_id, r)\n",
    "    else:\n",
    "        d={'user_id': user_id, 'recommend': recommend}\n",
    "        return col.insert_one(d)\n",
    "def count(user_id):\n",
    "    return col.count_documents({\"user_id\": user_id})\n",
    "def update(user_id, recommend):\n",
    "    query = { \"user_id\": user_id}\n",
    "    newvalues = { \"$push\": { \"recommend\": recommend } }\n",
    "    return col.update_one(query, newvalues)\n",
    "def search(user_id):\n",
    "    query = { \"user_id\": user_id}\n",
    "    return col.find(query)\n",
    "def recommend(user_id):\n",
    "    for x in search(user_id):\n",
    "        return x['recommend']\n",
    "def delete(user_id):\n",
    "    query = { \"user_id\": user_id}\n",
    "    return col.delete_many(query)"
   ]
  },
  {
   "cell_type": "code",
   "execution_count": 3,
   "metadata": {},
   "outputs": [
    {
     "name": "stdout",
     "output_type": "stream",
     "text": [
      "3197\n"
     ]
    }
   ],
   "source": [
    "myclient = pymongo.MongoClient(\"mongodb://localhost:27017/\")\n",
    "mydb = myclient[\"mydatabase\"]\n",
    "col = mydb[\"recommend\"]\n",
    "df = pd.read_csv(\"test_watch_log.csv\")\n",
    "c=0\n",
    "for index, row in df.iterrows():\n",
    "    try:\n",
    "        recommend_num = 50\n",
    "        result = requests.get('http://localhost:5000/video_id_to_video?video_id=' \\\n",
    "                                  + str(row['video_id']) +'&nums=' + str(recommend_num))\n",
    "        r = json.loads(result.text)\n",
    "        rmd = r['videos_id']\n",
    "        id = int(row['user_id'])\n",
    "        insert(id,rmd)\n",
    "        \n",
    "        if row['video_id'] in recommend(id):\n",
    "            c+=1\n",
    "    except:\n",
    "        continue\n",
    "print(c)\n",
    "    sheet.write(index+1,0,str(row['user_id']))\n",
    "    sheet.write(index+1,1,str(recommend(id)))\n",
    "    sheet.write(index+1,2,str(result))\n",
    "wb.save('result.xls')"
   ]
  },
  {
   "cell_type": "code",
   "execution_count": null,
   "metadata": {},
   "outputs": [],
   "source": [
    "cursor = col.find({})\n",
    "for document in cursor:\n",
    "    print(document)"
   ]
  },
  {
   "cell_type": "code",
   "execution_count": null,
   "metadata": {},
   "outputs": [],
   "source": [
    "col.remove()"
   ]
  },
  {
   "cell_type": "code",
   "execution_count": null,
   "metadata": {},
   "outputs": [],
   "source": []
  }
 ],
 "metadata": {
  "kernelspec": {
   "display_name": "Python 3",
   "language": "python",
   "name": "python3"
  },
  "language_info": {
   "codemirror_mode": {
    "name": "ipython",
    "version": 3
   },
   "file_extension": ".py",
   "mimetype": "text/x-python",
   "name": "python",
   "nbconvert_exporter": "python",
   "pygments_lexer": "ipython3",
   "version": "3.8.5"
  }
 },
 "nbformat": 4,
 "nbformat_minor": 4
}
