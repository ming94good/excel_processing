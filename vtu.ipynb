{
 "cells": [
  {
   "cell_type": "code",
   "execution_count": null,
   "metadata": {},
   "outputs": [],
   "source": [
    "import requests\n",
    "import pandas as pd\n",
    "import json\n",
    "import sqlite3\n",
    "import xlwt \n",
    "from xlwt import Workbook\n",
    "\n",
    "col_list = [\"user_id\", \"video_id\"]\n",
    "df = pd.read_csv(\"../csv/log_user_watch_daily-part2-20210119-20210316.csv\", usecols=col_list)\n",
    "\n",
    "wb = Workbook()\n",
    "sheet = wb.add_sheet('video_recommend') \n",
    "sheet.write(0,0,'user_id')\n",
    "sheet.write(0,1,'video_id')\n",
    "sheet.write(0,2,'video recommend 500 users')\n",
    "sheet.write(0,3,'user_is_in_list')\n",
    "\n",
    "c = 0\n",
    "for index, row in df.iterrows():\n",
    "    try:\n",
    "        rst = False\n",
    "        #print(row['id'])\n",
    "        # do recommend\n",
    "        recommend_num = 500\n",
    "        result = requests.get('http://localhost:5000/video_id_to_user?video_id=' \\\n",
    "                              + str(row['video_id']) +'&nums=' + str(recommend_num))\n",
    "        r = json.loads(result.text)\n",
    "        if row['user_id'] in r['users_id']:\n",
    "            rst = True\n",
    "            c+=1\n",
    "        sheet.write(index+1,0,str(row['user_id']))\n",
    "        sheet.write(index+1,1,str(row['video_id']))\n",
    "        sheet.write(index+1,2,str(r['users_id']))\n",
    "        sheet.write(index+1,3,str(rst))\n",
    "        print(str(row['user_id'])+' , '+ str(row['video_id']) + ' , ' + str(rst))\n",
    "    except:\n",
    "        continue\n",
    "wb.save('vtu.xls')\n",
    "print(c)\n",
    "print(index)"
   ]
  },
  {
   "cell_type": "code",
   "execution_count": null,
   "metadata": {},
   "outputs": [],
   "source": []
  }
 ],
 "metadata": {
  "kernelspec": {
   "display_name": "Python 3",
   "language": "python",
   "name": "python3"
  },
  "language_info": {
   "codemirror_mode": {
    "name": "ipython",
    "version": 3
   },
   "file_extension": ".py",
   "mimetype": "text/x-python",
   "name": "python",
   "nbconvert_exporter": "python",
   "pygments_lexer": "ipython3",
   "version": "3.8.5"
  }
 },
 "nbformat": 4,
 "nbformat_minor": 4
}
